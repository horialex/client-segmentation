{
 "cells": [
  {
   "cell_type": "markdown",
   "metadata": {},
   "source": [
    "# Client Segmentation Clustering\n",
    "\n",
    "We have a dataset about the stocks management of a company. We have data about orders made by different clients and also other type of transactions like shipipment orders, bank transactions stock balancing transactions, etc.\n",
    "\n",
    "We need to focus only on the proper customer transactions and group the customers in certain clusters based on their behaviours"
   ]
  },
  {
   "cell_type": "markdown",
   "metadata": {},
   "source": [
    "### Importing the dataset\n",
    "\n",
    "We need to change the default encondig because of some charactrs in the dataset"
   ]
  },
  {
   "cell_type": "code",
   "execution_count": 47,
   "metadata": {},
   "outputs": [
    {
     "data": {
      "text/html": [
       "<div>\n",
       "<style scoped>\n",
       "    .dataframe tbody tr th:only-of-type {\n",
       "        vertical-align: middle;\n",
       "    }\n",
       "\n",
       "    .dataframe tbody tr th {\n",
       "        vertical-align: top;\n",
       "    }\n",
       "\n",
       "    .dataframe thead th {\n",
       "        text-align: right;\n",
       "    }\n",
       "</style>\n",
       "<table border=\"1\" class=\"dataframe\">\n",
       "  <thead>\n",
       "    <tr style=\"text-align: right;\">\n",
       "      <th></th>\n",
       "      <th>InvoiceNo</th>\n",
       "      <th>StockCode</th>\n",
       "      <th>Description</th>\n",
       "      <th>Quantity</th>\n",
       "      <th>InvoiceDate</th>\n",
       "      <th>UnitPrice</th>\n",
       "      <th>CustomerID</th>\n",
       "      <th>Country</th>\n",
       "    </tr>\n",
       "  </thead>\n",
       "  <tbody>\n",
       "    <tr>\n",
       "      <th>0</th>\n",
       "      <td>536365</td>\n",
       "      <td>85123A</td>\n",
       "      <td>WHITE HANGING HEART T-LIGHT HOLDER</td>\n",
       "      <td>6</td>\n",
       "      <td>12/1/2010 8:26</td>\n",
       "      <td>2.55</td>\n",
       "      <td>17850.0</td>\n",
       "      <td>United Kingdom</td>\n",
       "    </tr>\n",
       "    <tr>\n",
       "      <th>1</th>\n",
       "      <td>536365</td>\n",
       "      <td>71053</td>\n",
       "      <td>WHITE METAL LANTERN</td>\n",
       "      <td>6</td>\n",
       "      <td>12/1/2010 8:26</td>\n",
       "      <td>3.39</td>\n",
       "      <td>17850.0</td>\n",
       "      <td>United Kingdom</td>\n",
       "    </tr>\n",
       "    <tr>\n",
       "      <th>2</th>\n",
       "      <td>536365</td>\n",
       "      <td>84406B</td>\n",
       "      <td>CREAM CUPID HEARTS COAT HANGER</td>\n",
       "      <td>8</td>\n",
       "      <td>12/1/2010 8:26</td>\n",
       "      <td>2.75</td>\n",
       "      <td>17850.0</td>\n",
       "      <td>United Kingdom</td>\n",
       "    </tr>\n",
       "    <tr>\n",
       "      <th>3</th>\n",
       "      <td>536365</td>\n",
       "      <td>84029G</td>\n",
       "      <td>KNITTED UNION FLAG HOT WATER BOTTLE</td>\n",
       "      <td>6</td>\n",
       "      <td>12/1/2010 8:26</td>\n",
       "      <td>3.39</td>\n",
       "      <td>17850.0</td>\n",
       "      <td>United Kingdom</td>\n",
       "    </tr>\n",
       "    <tr>\n",
       "      <th>4</th>\n",
       "      <td>536365</td>\n",
       "      <td>84029E</td>\n",
       "      <td>RED WOOLLY HOTTIE WHITE HEART.</td>\n",
       "      <td>6</td>\n",
       "      <td>12/1/2010 8:26</td>\n",
       "      <td>3.39</td>\n",
       "      <td>17850.0</td>\n",
       "      <td>United Kingdom</td>\n",
       "    </tr>\n",
       "  </tbody>\n",
       "</table>\n",
       "</div>"
      ],
      "text/plain": [
       "  InvoiceNo StockCode                          Description  Quantity  \\\n",
       "0    536365    85123A   WHITE HANGING HEART T-LIGHT HOLDER         6   \n",
       "1    536365     71053                  WHITE METAL LANTERN         6   \n",
       "2    536365    84406B       CREAM CUPID HEARTS COAT HANGER         8   \n",
       "3    536365    84029G  KNITTED UNION FLAG HOT WATER BOTTLE         6   \n",
       "4    536365    84029E       RED WOOLLY HOTTIE WHITE HEART.         6   \n",
       "\n",
       "      InvoiceDate  UnitPrice  CustomerID         Country  \n",
       "0  12/1/2010 8:26       2.55     17850.0  United Kingdom  \n",
       "1  12/1/2010 8:26       3.39     17850.0  United Kingdom  \n",
       "2  12/1/2010 8:26       2.75     17850.0  United Kingdom  \n",
       "3  12/1/2010 8:26       3.39     17850.0  United Kingdom  \n",
       "4  12/1/2010 8:26       3.39     17850.0  United Kingdom  "
      ]
     },
     "execution_count": 47,
     "metadata": {},
     "output_type": "execute_result"
    }
   ],
   "source": [
    "import pandas as pd\n",
    "\n",
    "df = pd.read_csv('data.csv', encoding='unicode_escape')\n",
    "df.head()"
   ]
  },
  {
   "cell_type": "markdown",
   "metadata": {},
   "source": [
    "#### Dataset Description:\n",
    "- InvoiceNo :    Code representing each unique transaction. If this code starts with letter 'c', it indicates a cancellation.\n",
    "- StockCode :   Code uniquely assigned to each distinct product.\n",
    "- Description :\tDescription of each product.\n",
    "- Quantity :\t    The number of units of a product in a transaction.\n",
    "- InvoiceDate :\tThe date and time of the transaction.\n",
    "- UnitPrice :\t    The unit price of the product in sterling.\n",
    "- CustomerID :\tIdentifier uniquely assigned to each customer.\n",
    "- Country :\t    The country of the customer."
   ]
  },
  {
   "cell_type": "markdown",
   "metadata": {},
   "source": [
    "We want to see how many rows and columns we have\n",
    "\n",
    "- we have 541909 rows and 8 columns"
   ]
  },
  {
   "cell_type": "code",
   "execution_count": 48,
   "metadata": {},
   "outputs": [
    {
     "data": {
      "text/plain": [
       "(541909, 8)"
      ]
     },
     "execution_count": 48,
     "metadata": {},
     "output_type": "execute_result"
    }
   ],
   "source": [
    "df.shape"
   ]
  },
  {
   "cell_type": "markdown",
   "metadata": {},
   "source": [
    "We want to see what types of data we have\n",
    "\n",
    "1. We notice that we have some columns that are normally numeric ones like InvoiceNo, StockCode that are now as objects because they also contain letters, we will need to somehow convert these to numeric type\n",
    "\n",
    "2. We also notice that InvoiceDate is object and we will convert it to datetype"
   ]
  },
  {
   "cell_type": "code",
   "execution_count": 49,
   "metadata": {},
   "outputs": [
    {
     "name": "stdout",
     "output_type": "stream",
     "text": [
      "<class 'pandas.core.frame.DataFrame'>\n",
      "RangeIndex: 541909 entries, 0 to 541908\n",
      "Data columns (total 8 columns):\n",
      " #   Column       Non-Null Count   Dtype  \n",
      "---  ------       --------------   -----  \n",
      " 0   InvoiceNo    541909 non-null  object \n",
      " 1   StockCode    541909 non-null  object \n",
      " 2   Description  540455 non-null  object \n",
      " 3   Quantity     541909 non-null  int64  \n",
      " 4   InvoiceDate  541909 non-null  object \n",
      " 5   UnitPrice    541909 non-null  float64\n",
      " 6   CustomerID   406829 non-null  float64\n",
      " 7   Country      541909 non-null  object \n",
      "dtypes: float64(2), int64(1), object(5)\n",
      "memory usage: 33.1+ MB\n"
     ]
    }
   ],
   "source": [
    "df.info()"
   ]
  },
  {
   "cell_type": "markdown",
   "metadata": {},
   "source": [
    "## Data cleaning"
   ]
  },
  {
   "cell_type": "markdown",
   "metadata": {},
   "source": [
    "### Handling null values:\n",
    "\n",
    "We want to see the features with nulls\n",
    "\n",
    "Since we want to observe the behaviour of customers we need to get rid of the data without 'Customer ID'"
   ]
  },
  {
   "cell_type": "code",
   "execution_count": 50,
   "metadata": {},
   "outputs": [
    {
     "data": {
      "text/plain": [
       "InvoiceNo           0\n",
       "StockCode           0\n",
       "Description      1454\n",
       "Quantity            0\n",
       "InvoiceDate         0\n",
       "UnitPrice           0\n",
       "CustomerID     135080\n",
       "Country             0\n",
       "dtype: int64"
      ]
     },
     "execution_count": 50,
     "metadata": {},
     "output_type": "execute_result"
    }
   ],
   "source": [
    "df.isnull().sum()"
   ]
  },
  {
   "cell_type": "markdown",
   "metadata": {},
   "source": [
    "By deleting all the 'CustomerID' rows with null values it will remove also all the rows from 'Description' that have null values because the rows match"
   ]
  },
  {
   "cell_type": "code",
   "execution_count": 51,
   "metadata": {},
   "outputs": [
    {
     "data": {
      "text/plain": [
       "InvoiceNo      0\n",
       "StockCode      0\n",
       "Description    0\n",
       "Quantity       0\n",
       "InvoiceDate    0\n",
       "UnitPrice      0\n",
       "CustomerID     0\n",
       "Country        0\n",
       "dtype: int64"
      ]
     },
     "execution_count": 51,
     "metadata": {},
     "output_type": "execute_result"
    }
   ],
   "source": [
    "df.dropna(subset=['CustomerID'], inplace=True, axis=0)\n",
    "df.isnull().sum()"
   ]
  },
  {
   "cell_type": "markdown",
   "metadata": {},
   "source": [
    "### Checking duplicates\n",
    "\n",
    "We have duplicates but we want to see if they are legit orders or not"
   ]
  },
  {
   "cell_type": "code",
   "execution_count": 52,
   "metadata": {},
   "outputs": [
    {
     "data": {
      "text/html": [
       "<div>\n",
       "<style scoped>\n",
       "    .dataframe tbody tr th:only-of-type {\n",
       "        vertical-align: middle;\n",
       "    }\n",
       "\n",
       "    .dataframe tbody tr th {\n",
       "        vertical-align: top;\n",
       "    }\n",
       "\n",
       "    .dataframe thead th {\n",
       "        text-align: right;\n",
       "    }\n",
       "</style>\n",
       "<table border=\"1\" class=\"dataframe\">\n",
       "  <thead>\n",
       "    <tr style=\"text-align: right;\">\n",
       "      <th></th>\n",
       "      <th>InvoiceNo</th>\n",
       "      <th>StockCode</th>\n",
       "      <th>Description</th>\n",
       "      <th>Quantity</th>\n",
       "      <th>InvoiceDate</th>\n",
       "      <th>UnitPrice</th>\n",
       "      <th>CustomerID</th>\n",
       "      <th>Country</th>\n",
       "    </tr>\n",
       "  </thead>\n",
       "  <tbody>\n",
       "    <tr>\n",
       "      <th>494</th>\n",
       "      <td>536409</td>\n",
       "      <td>21866</td>\n",
       "      <td>UNION JACK FLAG LUGGAGE TAG</td>\n",
       "      <td>1</td>\n",
       "      <td>12/1/2010 11:45</td>\n",
       "      <td>1.25</td>\n",
       "      <td>17908.0</td>\n",
       "      <td>United Kingdom</td>\n",
       "    </tr>\n",
       "    <tr>\n",
       "      <th>517</th>\n",
       "      <td>536409</td>\n",
       "      <td>21866</td>\n",
       "      <td>UNION JACK FLAG LUGGAGE TAG</td>\n",
       "      <td>1</td>\n",
       "      <td>12/1/2010 11:45</td>\n",
       "      <td>1.25</td>\n",
       "      <td>17908.0</td>\n",
       "      <td>United Kingdom</td>\n",
       "    </tr>\n",
       "    <tr>\n",
       "      <th>485</th>\n",
       "      <td>536409</td>\n",
       "      <td>22111</td>\n",
       "      <td>SCOTTIE DOG HOT WATER BOTTLE</td>\n",
       "      <td>1</td>\n",
       "      <td>12/1/2010 11:45</td>\n",
       "      <td>4.95</td>\n",
       "      <td>17908.0</td>\n",
       "      <td>United Kingdom</td>\n",
       "    </tr>\n",
       "    <tr>\n",
       "      <th>539</th>\n",
       "      <td>536409</td>\n",
       "      <td>22111</td>\n",
       "      <td>SCOTTIE DOG HOT WATER BOTTLE</td>\n",
       "      <td>1</td>\n",
       "      <td>12/1/2010 11:45</td>\n",
       "      <td>4.95</td>\n",
       "      <td>17908.0</td>\n",
       "      <td>United Kingdom</td>\n",
       "    </tr>\n",
       "    <tr>\n",
       "      <th>489</th>\n",
       "      <td>536409</td>\n",
       "      <td>22866</td>\n",
       "      <td>HAND WARMER SCOTTY DOG DESIGN</td>\n",
       "      <td>1</td>\n",
       "      <td>12/1/2010 11:45</td>\n",
       "      <td>2.10</td>\n",
       "      <td>17908.0</td>\n",
       "      <td>United Kingdom</td>\n",
       "    </tr>\n",
       "  </tbody>\n",
       "</table>\n",
       "</div>"
      ],
      "text/plain": [
       "    InvoiceNo StockCode                    Description  Quantity  \\\n",
       "494    536409     21866    UNION JACK FLAG LUGGAGE TAG         1   \n",
       "517    536409     21866    UNION JACK FLAG LUGGAGE TAG         1   \n",
       "485    536409     22111   SCOTTIE DOG HOT WATER BOTTLE         1   \n",
       "539    536409     22111   SCOTTIE DOG HOT WATER BOTTLE         1   \n",
       "489    536409     22866  HAND WARMER SCOTTY DOG DESIGN         1   \n",
       "\n",
       "         InvoiceDate  UnitPrice  CustomerID         Country  \n",
       "494  12/1/2010 11:45       1.25     17908.0  United Kingdom  \n",
       "517  12/1/2010 11:45       1.25     17908.0  United Kingdom  \n",
       "485  12/1/2010 11:45       4.95     17908.0  United Kingdom  \n",
       "539  12/1/2010 11:45       4.95     17908.0  United Kingdom  \n",
       "489  12/1/2010 11:45       2.10     17908.0  United Kingdom  "
      ]
     },
     "execution_count": 52,
     "metadata": {},
     "output_type": "execute_result"
    }
   ],
   "source": [
    "duplicated_rows = df[df.duplicated(keep=False)]\n",
    "duplicated_rows = duplicated_rows.sort_values(by=['InvoiceNo', 'StockCode'])\n",
    "duplicated_rows.head()"
   ]
  },
  {
   "cell_type": "markdown",
   "metadata": {},
   "source": [
    "We see that there are duplicates but it seems that the system allows buying the same product multiple times on an order\n",
    "\n",
    "We see that on the same InvoiceNO '536381' we have the same product '71270' added with different quantities - this makes us think that it is possible to have the same product mutiple times on the same order with the same or different 'Quantity'"
   ]
  },
  {
   "cell_type": "code",
   "execution_count": 53,
   "metadata": {},
   "outputs": [
    {
     "name": "stdout",
     "output_type": "stream",
     "text": [
      "Orders with the same product_code brought multiple times with different quantities:\n"
     ]
    },
    {
     "data": {
      "text/html": [
       "<div>\n",
       "<style scoped>\n",
       "    .dataframe tbody tr th:only-of-type {\n",
       "        vertical-align: middle;\n",
       "    }\n",
       "\n",
       "    .dataframe tbody tr th {\n",
       "        vertical-align: top;\n",
       "    }\n",
       "\n",
       "    .dataframe thead th {\n",
       "        text-align: right;\n",
       "    }\n",
       "</style>\n",
       "<table border=\"1\" class=\"dataframe\">\n",
       "  <thead>\n",
       "    <tr style=\"text-align: right;\">\n",
       "      <th></th>\n",
       "      <th>InvoiceNo</th>\n",
       "      <th>StockCode</th>\n",
       "      <th>Description</th>\n",
       "      <th>Quantity</th>\n",
       "      <th>InvoiceDate</th>\n",
       "      <th>UnitPrice</th>\n",
       "      <th>CustomerID</th>\n",
       "      <th>Country</th>\n",
       "    </tr>\n",
       "  </thead>\n",
       "  <tbody>\n",
       "    <tr>\n",
       "      <th>113</th>\n",
       "      <td>536381</td>\n",
       "      <td>71270</td>\n",
       "      <td>PHOTO CLIP LINE</td>\n",
       "      <td>1</td>\n",
       "      <td>12/1/2010 9:41</td>\n",
       "      <td>1.25</td>\n",
       "      <td>15311.0</td>\n",
       "      <td>United Kingdom</td>\n",
       "    </tr>\n",
       "    <tr>\n",
       "      <th>125</th>\n",
       "      <td>536381</td>\n",
       "      <td>71270</td>\n",
       "      <td>PHOTO CLIP LINE</td>\n",
       "      <td>3</td>\n",
       "      <td>12/1/2010 9:41</td>\n",
       "      <td>1.25</td>\n",
       "      <td>15311.0</td>\n",
       "      <td>United Kingdom</td>\n",
       "    </tr>\n",
       "    <tr>\n",
       "      <th>483</th>\n",
       "      <td>536409</td>\n",
       "      <td>90199C</td>\n",
       "      <td>5 STRAND GLASS NECKLACE CRYSTAL</td>\n",
       "      <td>3</td>\n",
       "      <td>12/1/2010 11:45</td>\n",
       "      <td>6.35</td>\n",
       "      <td>17908.0</td>\n",
       "      <td>United Kingdom</td>\n",
       "    </tr>\n",
       "    <tr>\n",
       "      <th>485</th>\n",
       "      <td>536409</td>\n",
       "      <td>22111</td>\n",
       "      <td>SCOTTIE DOG HOT WATER BOTTLE</td>\n",
       "      <td>1</td>\n",
       "      <td>12/1/2010 11:45</td>\n",
       "      <td>4.95</td>\n",
       "      <td>17908.0</td>\n",
       "      <td>United Kingdom</td>\n",
       "    </tr>\n",
       "    <tr>\n",
       "      <th>489</th>\n",
       "      <td>536409</td>\n",
       "      <td>22866</td>\n",
       "      <td>HAND WARMER SCOTTY DOG DESIGN</td>\n",
       "      <td>1</td>\n",
       "      <td>12/1/2010 11:45</td>\n",
       "      <td>2.10</td>\n",
       "      <td>17908.0</td>\n",
       "      <td>United Kingdom</td>\n",
       "    </tr>\n",
       "  </tbody>\n",
       "</table>\n",
       "</div>"
      ],
      "text/plain": [
       "    InvoiceNo StockCode                      Description  Quantity  \\\n",
       "113    536381     71270                  PHOTO CLIP LINE         1   \n",
       "125    536381     71270                  PHOTO CLIP LINE         3   \n",
       "483    536409    90199C  5 STRAND GLASS NECKLACE CRYSTAL         3   \n",
       "485    536409     22111     SCOTTIE DOG HOT WATER BOTTLE         1   \n",
       "489    536409     22866    HAND WARMER SCOTTY DOG DESIGN         1   \n",
       "\n",
       "         InvoiceDate  UnitPrice  CustomerID         Country  \n",
       "113   12/1/2010 9:41       1.25     15311.0  United Kingdom  \n",
       "125   12/1/2010 9:41       1.25     15311.0  United Kingdom  \n",
       "483  12/1/2010 11:45       6.35     17908.0  United Kingdom  \n",
       "485  12/1/2010 11:45       4.95     17908.0  United Kingdom  \n",
       "489  12/1/2010 11:45       2.10     17908.0  United Kingdom  "
      ]
     },
     "execution_count": 53,
     "metadata": {},
     "output_type": "execute_result"
    }
   ],
   "source": [
    "# Group by 'orderID' and 'product_code', then filter based on multiple occurrences with different quantities\n",
    "duplicate_orders = df[df.duplicated(subset=['InvoiceNo', 'StockCode'], keep=False)]\n",
    "\n",
    "print(\"Orders with the same product_code brought multiple times with different quantities:\")\n",
    "duplicate_orders.head()"
   ]
  },
  {
   "cell_type": "markdown",
   "metadata": {},
   "source": [
    "### Remove data that is not a proper product transaction \n",
    "\n",
    "First we need to check what StockCodes we have, we can see that we have some stock codes that are not starting with a numeric value, these are\n",
    "bank charges, carriege fees, amazon fees, transport related transactions, etc. We can drop these rows because they don't help us at all "
   ]
  },
  {
   "cell_type": "code",
   "execution_count": 54,
   "metadata": {},
   "outputs": [
    {
     "data": {
      "text/plain": [
       "StockCode\n",
       "POST            1196\n",
       "M                465\n",
       "C2               134\n",
       "D                 77\n",
       "DOT               16\n",
       "CRUK              16\n",
       "BANK CHARGES      12\n",
       "PADS               4\n",
       "Name: count, dtype: int64"
      ]
     },
     "execution_count": 54,
     "metadata": {},
     "output_type": "execute_result"
    }
   ],
   "source": [
    "non_numeric_stocks = df[~df['StockCode'].str.contains('^\\\\d', na=False)]\n",
    "non_numeric_stocks['StockCode'].value_counts()"
   ]
  },
  {
   "cell_type": "markdown",
   "metadata": {},
   "source": [
    "We drop these rows"
   ]
  },
  {
   "cell_type": "code",
   "execution_count": 55,
   "metadata": {},
   "outputs": [
    {
     "name": "stdout",
     "output_type": "stream",
     "text": [
      "(406829, 8)\n",
      "(404909, 8)\n"
     ]
    }
   ],
   "source": [
    "print(df.shape)\n",
    "df.drop(index=non_numeric_stocks.index, inplace=True)\n",
    "print(df.shape)"
   ]
  },
  {
   "cell_type": "markdown",
   "metadata": {},
   "source": [
    "We want to see what UnitPrices we have\n",
    "\n",
    "We notice that we have some rows with UnitPrices equal to 0 - these do not help us at all"
   ]
  },
  {
   "cell_type": "code",
   "execution_count": 56,
   "metadata": {},
   "outputs": [
    {
     "data": {
      "text/plain": [
       "count    404909.000000\n",
       "mean          2.901129\n",
       "std           4.430846\n",
       "min           0.000000\n",
       "25%           1.250000\n",
       "50%           1.950000\n",
       "75%           3.750000\n",
       "max         649.500000\n",
       "Name: UnitPrice, dtype: float64"
      ]
     },
     "execution_count": 56,
     "metadata": {},
     "output_type": "execute_result"
    }
   ],
   "source": [
    "df['UnitPrice'].describe()"
   ]
  },
  {
   "cell_type": "markdown",
   "metadata": {},
   "source": [
    "We notice that we have 33 rows where UnitPrice is 0 - we can remove them"
   ]
  },
  {
   "cell_type": "code",
   "execution_count": 57,
   "metadata": {},
   "outputs": [
    {
     "name": "stdout",
     "output_type": "stream",
     "text": [
      "33\n"
     ]
    }
   ],
   "source": [
    "zero_unit_price = df[df['UnitPrice']==0]\n",
    "print(zero_unit_price.value_counts().sum())"
   ]
  },
  {
   "cell_type": "code",
   "execution_count": 58,
   "metadata": {},
   "outputs": [
    {
     "name": "stdout",
     "output_type": "stream",
     "text": [
      "(404909, 8)\n",
      "(404876, 8)\n"
     ]
    }
   ],
   "source": [
    "print(df.shape)\n",
    "df.drop(index=zero_unit_price.index, inplace=True)\n",
    "print(df.shape)"
   ]
  },
  {
   "cell_type": "markdown",
   "metadata": {},
   "source": [
    "We want to see what type of orders we have, it seems we have normal orders and canceled orders. We notice that there are around 8500 canceled orders"
   ]
  },
  {
   "cell_type": "code",
   "execution_count": 59,
   "metadata": {},
   "outputs": [
    {
     "data": {
      "text/plain": [
       "InvoiceNo  StockCode  Description                         Quantity  InvoiceDate       UnitPrice  CustomerID  Country       \n",
       "C543611    82483      WOOD 2 DRAWER CABINET WHITE FINISH  -1        2/10/2011 14:38   4.95       17850.0     United Kingdom    4\n",
       "C538341    22725      ALARM CLOCK BAKELIKE CHOCOLATE      -1        12/10/2010 14:03  3.75       15514.0     United Kingdom    3\n",
       "           22976      CIRCUS PARADE CHILDRENS EGG CUP     -12       12/10/2010 14:03  1.25       15514.0     United Kingdom    3\n",
       "           22730      ALARM CLOCK BAKELIKE IVORY          -1        12/10/2010 14:03  3.75       15514.0     United Kingdom    3\n",
       "C570556    20971      PINK BLUE FELT CRAFT TRINKET BOX    -1296     10/11/2011 11:10  1.06       16029.0     United Kingdom    2\n",
       "                                                                                                                              ..\n",
       "C551285    82483      WOOD 2 DRAWER CABINET WHITE FINISH  -1        4/27/2011 14:07   6.95       15005.0     United Kingdom    1\n",
       "           72351B     SET/6 PINK  BUTTERFLY T-LIGHTS      -1        4/27/2011 14:07   2.10       15005.0     United Kingdom    1\n",
       "           37450      CERAMIC CAKE BOWL + HANGING CAKES   -1        4/27/2011 14:07   2.95       15005.0     United Kingdom    1\n",
       "           22649      STRAWBERRY FAIRY CAKE TEAPOT        -1        4/27/2011 14:07   4.95       15005.0     United Kingdom    1\n",
       "C581569    84978      HANGING HEART JAR T-LIGHT HOLDER    -1        12/9/2011 11:58   1.25       17315.0     United Kingdom    1\n",
       "Name: count, Length: 8506, dtype: int64"
      ]
     },
     "execution_count": 59,
     "metadata": {},
     "output_type": "execute_result"
    }
   ],
   "source": [
    "invoice_codes = df['InvoiceNo']\n",
    "invoice_codes.sort_values(ascending=False)\n",
    "\n",
    "non_numeric_invoices = df[~df['InvoiceNo'].str.contains('^\\\\d', na=False)]\n",
    "non_numeric_invoices.value_counts()\n"
   ]
  },
  {
   "cell_type": "markdown",
   "metadata": {},
   "source": [
    "We need to handle the canceled orders in some way. It seems that they start with 'C' letter followed by an order id. What we could is to create another binary column 'CanceledOrder' and we can mark the canceled orders with 1 and the others with 0\n",
    "\n",
    "Afterwards we need to clean the 'InvoiceNo' column by removing the 'C' letter from those invoices that have it"
   ]
  },
  {
   "cell_type": "code",
   "execution_count": 60,
   "metadata": {},
   "outputs": [
    {
     "data": {
      "text/plain": [
       "CanceledOrder\n",
       "0    396337\n",
       "1      8539\n",
       "Name: count, dtype: int64"
      ]
     },
     "execution_count": 60,
     "metadata": {},
     "output_type": "execute_result"
    }
   ],
   "source": [
    "df['CanceledOrder'] = df['InvoiceNo'].str.startswith('C').astype(int)\n",
    "df['InvoiceNo'] = df['InvoiceNo'].str.replace('C', '')\n",
    "df['CanceledOrder'].value_counts()"
   ]
  },
  {
   "cell_type": "markdown",
   "metadata": {},
   "source": [
    "### Removing unneeded columns\n",
    "\n",
    "We want cluster the clients based on their behaviours so for this the relevant features would be the following:\n",
    " - Quantity\n",
    " - UnitPrice\n",
    " - InvoiceDate\n",
    " - CustomerID - not fully sure we need it\n",
    " - Country - not fully sure we need it \n"
   ]
  },
  {
   "cell_type": "markdown",
   "metadata": {},
   "source": [
    "We have Country column we need to see how the samples is distributed over countries\n",
    "\n",
    "We see that the majority of the orders are from United Kingdom and they represent ~90% from the total\n",
    "\n",
    "We can remove the 'Country' column because the dataset is unballanced in this regard"
   ]
  },
  {
   "cell_type": "code",
   "execution_count": 61,
   "metadata": {},
   "outputs": [
    {
     "data": {
      "text/plain": [
       "Index(['InvoiceNo', 'StockCode', 'Description', 'Quantity', 'InvoiceDate',\n",
       "       'UnitPrice', 'CustomerID', 'CanceledOrder'],\n",
       "      dtype='object')"
      ]
     },
     "execution_count": 61,
     "metadata": {},
     "output_type": "execute_result"
    }
   ],
   "source": [
    "df['Country'].value_counts(normalize=True)\n",
    "df.drop('Country', axis=1, inplace=True)\n",
    "df.columns"
   ]
  },
  {
   "cell_type": "markdown",
   "metadata": {},
   "source": [
    "Also we can remove 'Description' column because it is not relevant"
   ]
  },
  {
   "cell_type": "code",
   "execution_count": 62,
   "metadata": {},
   "outputs": [
    {
     "data": {
      "text/plain": [
       "Index(['InvoiceNo', 'StockCode', 'Quantity', 'InvoiceDate', 'UnitPrice',\n",
       "       'CustomerID', 'CanceledOrder'],\n",
       "      dtype='object')"
      ]
     },
     "execution_count": 62,
     "metadata": {},
     "output_type": "execute_result"
    }
   ],
   "source": [
    "df.drop('Description', axis=1, inplace=True)\n",
    "df.columns"
   ]
  },
  {
   "cell_type": "markdown",
   "metadata": {},
   "source": [
    "We can also remove StockCode because the anlyisis is about customers not about products we sell"
   ]
  },
  {
   "cell_type": "code",
   "execution_count": 63,
   "metadata": {},
   "outputs": [
    {
     "data": {
      "text/plain": [
       "Index(['InvoiceNo', 'Quantity', 'InvoiceDate', 'UnitPrice', 'CustomerID',\n",
       "       'CanceledOrder'],\n",
       "      dtype='object')"
      ]
     },
     "execution_count": 63,
     "metadata": {},
     "output_type": "execute_result"
    }
   ],
   "source": [
    "df.drop('StockCode', axis=1, inplace=True)\n",
    "df.columns"
   ]
  },
  {
   "cell_type": "markdown",
   "metadata": {},
   "source": [
    "### Converting columns to proper type"
   ]
  },
  {
   "cell_type": "markdown",
   "metadata": {},
   "source": [
    "#### Date column\n",
    "We have the 'InvoiceDate' column that is of object type, we need to convert it to datetime type and extract what we need from it. We keep only the date since the hour and minutes are not very useful for us"
   ]
  },
  {
   "cell_type": "code",
   "execution_count": 64,
   "metadata": {},
   "outputs": [
    {
     "name": "stdout",
     "output_type": "stream",
     "text": [
      "<class 'pandas.core.frame.DataFrame'>\n",
      "Index: 404876 entries, 0 to 541908\n",
      "Data columns (total 6 columns):\n",
      " #   Column         Non-Null Count   Dtype  \n",
      "---  ------         --------------   -----  \n",
      " 0   InvoiceNo      404876 non-null  object \n",
      " 1   Quantity       404876 non-null  int64  \n",
      " 2   InvoiceDate    404876 non-null  object \n",
      " 3   UnitPrice      404876 non-null  float64\n",
      " 4   CustomerID     404876 non-null  float64\n",
      " 5   CanceledOrder  404876 non-null  int32  \n",
      "dtypes: float64(2), int32(1), int64(1), object(2)\n",
      "memory usage: 20.1+ MB\n"
     ]
    }
   ],
   "source": [
    "df['InvoiceDate'] = pd.to_datetime(df['InvoiceDate']).dt.date\n",
    "\n",
    "df.info()"
   ]
  },
  {
   "cell_type": "markdown",
   "metadata": {},
   "source": [
    "#### InvoiceNo columns\n",
    "\n",
    "We need to convert this from object to int64"
   ]
  },
  {
   "cell_type": "code",
   "execution_count": 65,
   "metadata": {},
   "outputs": [
    {
     "name": "stdout",
     "output_type": "stream",
     "text": [
      "<class 'pandas.core.frame.DataFrame'>\n",
      "Index: 404876 entries, 0 to 541908\n",
      "Data columns (total 6 columns):\n",
      " #   Column         Non-Null Count   Dtype  \n",
      "---  ------         --------------   -----  \n",
      " 0   InvoiceNo      404876 non-null  int64  \n",
      " 1   Quantity       404876 non-null  int64  \n",
      " 2   InvoiceDate    404876 non-null  object \n",
      " 3   UnitPrice      404876 non-null  float64\n",
      " 4   CustomerID     404876 non-null  float64\n",
      " 5   CanceledOrder  404876 non-null  int32  \n",
      "dtypes: float64(2), int32(1), int64(2), object(1)\n",
      "memory usage: 20.1+ MB\n"
     ]
    }
   ],
   "source": [
    "df = df.astype({'InvoiceNo':'int64'})\n",
    "df.info()"
   ]
  },
  {
   "cell_type": "markdown",
   "metadata": {},
   "source": [
    "Now all the columns are in the proper format"
   ]
  },
  {
   "cell_type": "markdown",
   "metadata": {},
   "source": [
    "## Feature Engineering | Aggregating data"
   ]
  },
  {
   "cell_type": "markdown",
   "metadata": {},
   "source": [
    "Since we have the same order on multiple rows we want to aggregate these to a single order, sum the Quantity for that order, the total value of the order\n",
    "\n",
    "Also we drop the canceled orders and the 'CanceledOrder' column  -- !!!!Do we keep it or not?!!!!"
   ]
  },
  {
   "cell_type": "code",
   "execution_count": 66,
   "metadata": {},
   "outputs": [
    {
     "data": {
      "text/plain": [
       "(21785, 6)"
      ]
     },
     "execution_count": 66,
     "metadata": {},
     "output_type": "execute_result"
    }
   ],
   "source": [
    "# Calculate the total price for each invoice\n",
    "df['TotalPrice'] = df['Quantity'] * df['UnitPrice']\n",
    "\n",
    "# Group by 'InvoiceNo'\n",
    "inovice_df = df.groupby(['InvoiceNo', 'CustomerID', 'InvoiceDate', 'CanceledOrder']).agg({'Quantity': 'sum', 'TotalPrice': 'sum'}).reset_index()\n",
    "\n",
    "#drop the canceled orders - the rows that are reperesnting canceled orders\n",
    "#inovice_df = inovice_df[inovice_df['CanceledOrder'] != 1].reset_index(drop=True)\n",
    "\n",
    "#drop the 'CaneceledOrder' column\n",
    "#inovice_df.drop('CanceledOrder', axis=1, inplace=True)\n",
    "\n",
    "inovice_df.shape"
   ]
  },
  {
   "cell_type": "markdown",
   "metadata": {},
   "source": [
    "Aggregate by CustomerID"
   ]
  },
  {
   "cell_type": "code",
   "execution_count": 67,
   "metadata": {},
   "outputs": [
    {
     "data": {
      "text/html": [
       "<div>\n",
       "<style scoped>\n",
       "    .dataframe tbody tr th:only-of-type {\n",
       "        vertical-align: middle;\n",
       "    }\n",
       "\n",
       "    .dataframe tbody tr th {\n",
       "        vertical-align: top;\n",
       "    }\n",
       "\n",
       "    .dataframe thead th {\n",
       "        text-align: right;\n",
       "    }\n",
       "</style>\n",
       "<table border=\"1\" class=\"dataframe\">\n",
       "  <thead>\n",
       "    <tr style=\"text-align: right;\">\n",
       "      <th></th>\n",
       "      <th>InvoiceNo</th>\n",
       "      <th>CustomerID</th>\n",
       "      <th>InvoiceDate</th>\n",
       "      <th>CanceledOrder</th>\n",
       "      <th>Quantity</th>\n",
       "      <th>TotalPrice</th>\n",
       "    </tr>\n",
       "  </thead>\n",
       "  <tbody>\n",
       "    <tr>\n",
       "      <th>0</th>\n",
       "      <td>536365</td>\n",
       "      <td>17850.0</td>\n",
       "      <td>2010-12-01</td>\n",
       "      <td>0</td>\n",
       "      <td>40</td>\n",
       "      <td>139.12</td>\n",
       "    </tr>\n",
       "    <tr>\n",
       "      <th>1</th>\n",
       "      <td>536366</td>\n",
       "      <td>17850.0</td>\n",
       "      <td>2010-12-01</td>\n",
       "      <td>0</td>\n",
       "      <td>12</td>\n",
       "      <td>22.20</td>\n",
       "    </tr>\n",
       "    <tr>\n",
       "      <th>2</th>\n",
       "      <td>536367</td>\n",
       "      <td>13047.0</td>\n",
       "      <td>2010-12-01</td>\n",
       "      <td>0</td>\n",
       "      <td>83</td>\n",
       "      <td>278.73</td>\n",
       "    </tr>\n",
       "    <tr>\n",
       "      <th>3</th>\n",
       "      <td>536368</td>\n",
       "      <td>13047.0</td>\n",
       "      <td>2010-12-01</td>\n",
       "      <td>0</td>\n",
       "      <td>15</td>\n",
       "      <td>70.05</td>\n",
       "    </tr>\n",
       "    <tr>\n",
       "      <th>4</th>\n",
       "      <td>536369</td>\n",
       "      <td>13047.0</td>\n",
       "      <td>2010-12-01</td>\n",
       "      <td>0</td>\n",
       "      <td>3</td>\n",
       "      <td>17.85</td>\n",
       "    </tr>\n",
       "  </tbody>\n",
       "</table>\n",
       "</div>"
      ],
      "text/plain": [
       "   InvoiceNo  CustomerID InvoiceDate  CanceledOrder  Quantity  TotalPrice\n",
       "0     536365     17850.0  2010-12-01              0        40      139.12\n",
       "1     536366     17850.0  2010-12-01              0        12       22.20\n",
       "2     536367     13047.0  2010-12-01              0        83      278.73\n",
       "3     536368     13047.0  2010-12-01              0        15       70.05\n",
       "4     536369     13047.0  2010-12-01              0         3       17.85"
      ]
     },
     "execution_count": 67,
     "metadata": {},
     "output_type": "execute_result"
    }
   ],
   "source": [
    "inovice_df.head()"
   ]
  },
  {
   "cell_type": "markdown",
   "metadata": {},
   "source": [
    "I Aggregate by CustomerId, I need the number of invocies for each customer, the date of the last purchase (most recent purchase) and I sum the qunaitites of products brought and the money spent "
   ]
  },
  {
   "cell_type": "code",
   "execution_count": 68,
   "metadata": {},
   "outputs": [
    {
     "data": {
      "text/html": [
       "<div>\n",
       "<style scoped>\n",
       "    .dataframe tbody tr th:only-of-type {\n",
       "        vertical-align: middle;\n",
       "    }\n",
       "\n",
       "    .dataframe tbody tr th {\n",
       "        vertical-align: top;\n",
       "    }\n",
       "\n",
       "    .dataframe thead th {\n",
       "        text-align: right;\n",
       "    }\n",
       "</style>\n",
       "<table border=\"1\" class=\"dataframe\">\n",
       "  <thead>\n",
       "    <tr style=\"text-align: right;\">\n",
       "      <th></th>\n",
       "      <th>CustomerID</th>\n",
       "      <th>Total_Transactions</th>\n",
       "      <th>First_Purchase_Date</th>\n",
       "      <th>Latest_Purchase_Date</th>\n",
       "      <th>Total_Quantity</th>\n",
       "      <th>Total_Spent</th>\n",
       "      <th>Cancellation_Frequency</th>\n",
       "    </tr>\n",
       "  </thead>\n",
       "  <tbody>\n",
       "    <tr>\n",
       "      <th>0</th>\n",
       "      <td>12346.0</td>\n",
       "      <td>2</td>\n",
       "      <td>2011-01-18</td>\n",
       "      <td>2011-01-18</td>\n",
       "      <td>0</td>\n",
       "      <td>0.00</td>\n",
       "      <td>2</td>\n",
       "    </tr>\n",
       "    <tr>\n",
       "      <th>1</th>\n",
       "      <td>12347.0</td>\n",
       "      <td>7</td>\n",
       "      <td>2010-12-07</td>\n",
       "      <td>2011-12-07</td>\n",
       "      <td>2458</td>\n",
       "      <td>4310.00</td>\n",
       "      <td>7</td>\n",
       "    </tr>\n",
       "    <tr>\n",
       "      <th>2</th>\n",
       "      <td>12348.0</td>\n",
       "      <td>4</td>\n",
       "      <td>2010-12-16</td>\n",
       "      <td>2011-09-25</td>\n",
       "      <td>2332</td>\n",
       "      <td>1437.24</td>\n",
       "      <td>4</td>\n",
       "    </tr>\n",
       "    <tr>\n",
       "      <th>3</th>\n",
       "      <td>12349.0</td>\n",
       "      <td>1</td>\n",
       "      <td>2011-11-21</td>\n",
       "      <td>2011-11-21</td>\n",
       "      <td>630</td>\n",
       "      <td>1457.55</td>\n",
       "      <td>1</td>\n",
       "    </tr>\n",
       "    <tr>\n",
       "      <th>4</th>\n",
       "      <td>12350.0</td>\n",
       "      <td>1</td>\n",
       "      <td>2011-02-02</td>\n",
       "      <td>2011-02-02</td>\n",
       "      <td>196</td>\n",
       "      <td>294.40</td>\n",
       "      <td>1</td>\n",
       "    </tr>\n",
       "  </tbody>\n",
       "</table>\n",
       "</div>"
      ],
      "text/plain": [
       "   CustomerID  Total_Transactions First_Purchase_Date Latest_Purchase_Date  \\\n",
       "0     12346.0                   2          2011-01-18           2011-01-18   \n",
       "1     12347.0                   7          2010-12-07           2011-12-07   \n",
       "2     12348.0                   4          2010-12-16           2011-09-25   \n",
       "3     12349.0                   1          2011-11-21           2011-11-21   \n",
       "4     12350.0                   1          2011-02-02           2011-02-02   \n",
       "\n",
       "   Total_Quantity  Total_Spent  Cancellation_Frequency  \n",
       "0               0         0.00                       2  \n",
       "1            2458      4310.00                       7  \n",
       "2            2332      1437.24                       4  \n",
       "3             630      1457.55                       1  \n",
       "4             196       294.40                       1  "
      ]
     },
     "execution_count": 68,
     "metadata": {},
     "output_type": "execute_result"
    }
   ],
   "source": [
    "# Extract the earliest date that appears in the dataframe\n",
    "earliest_date = pd.to_datetime(inovice_df['InvoiceDate'].min())\n",
    "latest_date = pd.to_datetime(inovice_df['InvoiceDate'].max())\n",
    "\n",
    "\n",
    "# Aggregate invoices by customer id\n",
    "customer_df = inovice_df.groupby('CustomerID').agg({'InvoiceNo': 'count','InvoiceDate': ['min', 'max'], 'Quantity':'sum', 'TotalPrice':'sum', 'CanceledOrder': 'count'}).reset_index()\n",
    "\n",
    "# Rename columns if needed\n",
    "customer_df.columns = ['CustomerID', 'Total_Transactions', 'First_Purchase_Date', 'Latest_Purchase_Date', 'Total_Quantity', 'Total_Spent', 'Cancellation_Frequency']\n",
    "\n",
    "# Convert Latest_Purchase_Date and First_Purchase_Date to datetime\n",
    "customer_df['Latest_Purchase_Date'] = pd.to_datetime(customer_df['Latest_Purchase_Date'])\n",
    "customer_df['First_Purchase_Date'] = pd.to_datetime(customer_df['First_Purchase_Date'])\n",
    "\n",
    "customer_df.head()"
   ]
  },
  {
   "cell_type": "markdown",
   "metadata": {},
   "source": [
    "#### Recency Feature\n",
    "\n",
    "ow I want to get the number of days passed since last purchase instead of 'LatestPurchaseDate' - but since the dataset timespan is from december 2010 until December 2011 and today we are in 2024 we need to count these days as if we are doing it from December 2011. \n",
    "\n",
    "- Dataset timespan: 2010-12-01 --> 2011-12-09\n",
    "\n",
    "So we need to set a fake current date to: 2011-12-10"
   ]
  },
  {
   "cell_type": "code",
   "execution_count": 71,
   "metadata": {},
   "outputs": [
    {
     "data": {
      "text/html": [
       "<div>\n",
       "<style scoped>\n",
       "    .dataframe tbody tr th:only-of-type {\n",
       "        vertical-align: middle;\n",
       "    }\n",
       "\n",
       "    .dataframe tbody tr th {\n",
       "        vertical-align: top;\n",
       "    }\n",
       "\n",
       "    .dataframe thead th {\n",
       "        text-align: right;\n",
       "    }\n",
       "</style>\n",
       "<table border=\"1\" class=\"dataframe\">\n",
       "  <thead>\n",
       "    <tr style=\"text-align: right;\">\n",
       "      <th></th>\n",
       "      <th>CustomerID</th>\n",
       "      <th>Total_Transactions</th>\n",
       "      <th>First_Purchase_Date</th>\n",
       "      <th>Latest_Purchase_Date</th>\n",
       "      <th>Total_Quantity</th>\n",
       "      <th>Total_Spent</th>\n",
       "      <th>Cancellation_Frequency</th>\n",
       "      <th>Days_Since_Last_Purchase</th>\n",
       "      <th>Days_Since_First_Purchase</th>\n",
       "    </tr>\n",
       "  </thead>\n",
       "  <tbody>\n",
       "    <tr>\n",
       "      <th>0</th>\n",
       "      <td>12346.0</td>\n",
       "      <td>2</td>\n",
       "      <td>2011-01-18</td>\n",
       "      <td>2011-01-18</td>\n",
       "      <td>0</td>\n",
       "      <td>0.00</td>\n",
       "      <td>2</td>\n",
       "      <td>326</td>\n",
       "      <td>326</td>\n",
       "    </tr>\n",
       "    <tr>\n",
       "      <th>1</th>\n",
       "      <td>12347.0</td>\n",
       "      <td>7</td>\n",
       "      <td>2010-12-07</td>\n",
       "      <td>2011-12-07</td>\n",
       "      <td>2458</td>\n",
       "      <td>4310.00</td>\n",
       "      <td>7</td>\n",
       "      <td>3</td>\n",
       "      <td>368</td>\n",
       "    </tr>\n",
       "    <tr>\n",
       "      <th>2</th>\n",
       "      <td>12348.0</td>\n",
       "      <td>4</td>\n",
       "      <td>2010-12-16</td>\n",
       "      <td>2011-09-25</td>\n",
       "      <td>2332</td>\n",
       "      <td>1437.24</td>\n",
       "      <td>4</td>\n",
       "      <td>76</td>\n",
       "      <td>359</td>\n",
       "    </tr>\n",
       "    <tr>\n",
       "      <th>3</th>\n",
       "      <td>12349.0</td>\n",
       "      <td>1</td>\n",
       "      <td>2011-11-21</td>\n",
       "      <td>2011-11-21</td>\n",
       "      <td>630</td>\n",
       "      <td>1457.55</td>\n",
       "      <td>1</td>\n",
       "      <td>19</td>\n",
       "      <td>19</td>\n",
       "    </tr>\n",
       "    <tr>\n",
       "      <th>4</th>\n",
       "      <td>12350.0</td>\n",
       "      <td>1</td>\n",
       "      <td>2011-02-02</td>\n",
       "      <td>2011-02-02</td>\n",
       "      <td>196</td>\n",
       "      <td>294.40</td>\n",
       "      <td>1</td>\n",
       "      <td>311</td>\n",
       "      <td>311</td>\n",
       "    </tr>\n",
       "  </tbody>\n",
       "</table>\n",
       "</div>"
      ],
      "text/plain": [
       "   CustomerID  Total_Transactions First_Purchase_Date Latest_Purchase_Date  \\\n",
       "0     12346.0                   2          2011-01-18           2011-01-18   \n",
       "1     12347.0                   7          2010-12-07           2011-12-07   \n",
       "2     12348.0                   4          2010-12-16           2011-09-25   \n",
       "3     12349.0                   1          2011-11-21           2011-11-21   \n",
       "4     12350.0                   1          2011-02-02           2011-02-02   \n",
       "\n",
       "   Total_Quantity  Total_Spent  Cancellation_Frequency  \\\n",
       "0               0         0.00                       2   \n",
       "1            2458      4310.00                       7   \n",
       "2            2332      1437.24                       4   \n",
       "3             630      1457.55                       1   \n",
       "4             196       294.40                       1   \n",
       "\n",
       "   Days_Since_Last_Purchase  Days_Since_First_Purchase  \n",
       "0                       326                        326  \n",
       "1                         3                        368  \n",
       "2                        76                        359  \n",
       "3                        19                         19  \n",
       "4                       311                        311  "
      ]
     },
     "execution_count": 71,
     "metadata": {},
     "output_type": "execute_result"
    }
   ],
   "source": [
    "from datetime import datetime\n",
    "\n",
    "# we set a current date variable to be the last_date in the df + 1 day -  the next day - 2011-12-10\n",
    "current_date = latest_date + pd.to_timedelta(1, unit='D')\n",
    "\n",
    "# Create a new feature 'DaysSinceLastPurchase'\n",
    "customer_df['Days_Since_Last_Purchase'] = (current_date - customer_df['Latest_Purchase_Date']).dt.days\n",
    "customer_df['Days_Since_First_Purchase'] = (current_date - customer_df['First_Purchase_Date']).dt.days\n",
    "\n",
    "customer_df.head()\n"
   ]
  },
  {
   "cell_type": "markdown",
   "metadata": {},
   "source": [
    "Drop the Latest_Purchase_Date and First_Purchase_Date column"
   ]
  },
  {
   "cell_type": "code",
   "execution_count": 72,
   "metadata": {},
   "outputs": [
    {
     "data": {
      "text/html": [
       "<div>\n",
       "<style scoped>\n",
       "    .dataframe tbody tr th:only-of-type {\n",
       "        vertical-align: middle;\n",
       "    }\n",
       "\n",
       "    .dataframe tbody tr th {\n",
       "        vertical-align: top;\n",
       "    }\n",
       "\n",
       "    .dataframe thead th {\n",
       "        text-align: right;\n",
       "    }\n",
       "</style>\n",
       "<table border=\"1\" class=\"dataframe\">\n",
       "  <thead>\n",
       "    <tr style=\"text-align: right;\">\n",
       "      <th></th>\n",
       "      <th>CustomerID</th>\n",
       "      <th>Total_Transactions</th>\n",
       "      <th>Total_Quantity</th>\n",
       "      <th>Total_Spent</th>\n",
       "      <th>Cancellation_Frequency</th>\n",
       "      <th>Days_Since_Last_Purchase</th>\n",
       "      <th>Days_Since_First_Purchase</th>\n",
       "    </tr>\n",
       "  </thead>\n",
       "  <tbody>\n",
       "    <tr>\n",
       "      <th>0</th>\n",
       "      <td>12346.0</td>\n",
       "      <td>2</td>\n",
       "      <td>0</td>\n",
       "      <td>0.00</td>\n",
       "      <td>2</td>\n",
       "      <td>326</td>\n",
       "      <td>326</td>\n",
       "    </tr>\n",
       "    <tr>\n",
       "      <th>1</th>\n",
       "      <td>12347.0</td>\n",
       "      <td>7</td>\n",
       "      <td>2458</td>\n",
       "      <td>4310.00</td>\n",
       "      <td>7</td>\n",
       "      <td>3</td>\n",
       "      <td>368</td>\n",
       "    </tr>\n",
       "    <tr>\n",
       "      <th>2</th>\n",
       "      <td>12348.0</td>\n",
       "      <td>4</td>\n",
       "      <td>2332</td>\n",
       "      <td>1437.24</td>\n",
       "      <td>4</td>\n",
       "      <td>76</td>\n",
       "      <td>359</td>\n",
       "    </tr>\n",
       "    <tr>\n",
       "      <th>3</th>\n",
       "      <td>12349.0</td>\n",
       "      <td>1</td>\n",
       "      <td>630</td>\n",
       "      <td>1457.55</td>\n",
       "      <td>1</td>\n",
       "      <td>19</td>\n",
       "      <td>19</td>\n",
       "    </tr>\n",
       "    <tr>\n",
       "      <th>4</th>\n",
       "      <td>12350.0</td>\n",
       "      <td>1</td>\n",
       "      <td>196</td>\n",
       "      <td>294.40</td>\n",
       "      <td>1</td>\n",
       "      <td>311</td>\n",
       "      <td>311</td>\n",
       "    </tr>\n",
       "  </tbody>\n",
       "</table>\n",
       "</div>"
      ],
      "text/plain": [
       "   CustomerID  Total_Transactions  Total_Quantity  Total_Spent  \\\n",
       "0     12346.0                   2               0         0.00   \n",
       "1     12347.0                   7            2458      4310.00   \n",
       "2     12348.0                   4            2332      1437.24   \n",
       "3     12349.0                   1             630      1457.55   \n",
       "4     12350.0                   1             196       294.40   \n",
       "\n",
       "   Cancellation_Frequency  Days_Since_Last_Purchase  Days_Since_First_Purchase  \n",
       "0                       2                       326                        326  \n",
       "1                       7                         3                        368  \n",
       "2                       4                        76                        359  \n",
       "3                       1                        19                         19  \n",
       "4                       1                       311                        311  "
      ]
     },
     "execution_count": 72,
     "metadata": {},
     "output_type": "execute_result"
    }
   ],
   "source": [
    "customer_df = customer_df.drop(columns=['Latest_Purchase_Date'])\n",
    "customer_df = customer_df.drop(columns=['First_Purchase_Date'])\n",
    "customer_df.head()"
   ]
  },
  {
   "cell_type": "markdown",
   "metadata": {},
   "source": [
    "#### Frequency feature\n",
    "\n",
    "We can see how often the customer issues an order \n",
    "I will calculate the Order_Frequency by dividing the number of total transactions over the number of days since first purchase - that way I will have the order frecuency of a customer"
   ]
  },
  {
   "cell_type": "code",
   "execution_count": 84,
   "metadata": {},
   "outputs": [
    {
     "data": {
      "text/html": [
       "<div>\n",
       "<style scoped>\n",
       "    .dataframe tbody tr th:only-of-type {\n",
       "        vertical-align: middle;\n",
       "    }\n",
       "\n",
       "    .dataframe tbody tr th {\n",
       "        vertical-align: top;\n",
       "    }\n",
       "\n",
       "    .dataframe thead th {\n",
       "        text-align: right;\n",
       "    }\n",
       "</style>\n",
       "<table border=\"1\" class=\"dataframe\">\n",
       "  <thead>\n",
       "    <tr style=\"text-align: right;\">\n",
       "      <th></th>\n",
       "      <th>CustomerID</th>\n",
       "      <th>Total_Transactions</th>\n",
       "      <th>Total_Quantity</th>\n",
       "      <th>Total_Spent</th>\n",
       "      <th>Cancellation_Frequency</th>\n",
       "      <th>Days_Since_Last_Purchase</th>\n",
       "      <th>Days_Since_First_Purchase</th>\n",
       "      <th>Relative_Order_Frequency</th>\n",
       "      <th>Absolute_Order_Frequency</th>\n",
       "    </tr>\n",
       "  </thead>\n",
       "  <tbody>\n",
       "    <tr>\n",
       "      <th>1891</th>\n",
       "      <td>14911.0</td>\n",
       "      <td>242</td>\n",
       "      <td>76848</td>\n",
       "      <td>128882.13</td>\n",
       "      <td>242</td>\n",
       "      <td>2</td>\n",
       "      <td>374</td>\n",
       "      <td>0.647059</td>\n",
       "      <td>0.011109</td>\n",
       "    </tr>\n",
       "    <tr>\n",
       "      <th>328</th>\n",
       "      <td>12748.0</td>\n",
       "      <td>217</td>\n",
       "      <td>23976</td>\n",
       "      <td>30486.53</td>\n",
       "      <td>217</td>\n",
       "      <td>1</td>\n",
       "      <td>374</td>\n",
       "      <td>0.580214</td>\n",
       "      <td>0.009961</td>\n",
       "    </tr>\n",
       "    <tr>\n",
       "      <th>4033</th>\n",
       "      <td>17841.0</td>\n",
       "      <td>169</td>\n",
       "      <td>22850</td>\n",
       "      <td>40333.22</td>\n",
       "      <td>169</td>\n",
       "      <td>2</td>\n",
       "      <td>374</td>\n",
       "      <td>0.451872</td>\n",
       "      <td>0.007758</td>\n",
       "    </tr>\n",
       "    <tr>\n",
       "      <th>1670</th>\n",
       "      <td>14606.0</td>\n",
       "      <td>125</td>\n",
       "      <td>5969</td>\n",
       "      <td>11567.10</td>\n",
       "      <td>125</td>\n",
       "      <td>2</td>\n",
       "      <td>374</td>\n",
       "      <td>0.334225</td>\n",
       "      <td>0.005738</td>\n",
       "    </tr>\n",
       "    <tr>\n",
       "      <th>566</th>\n",
       "      <td>13089.0</td>\n",
       "      <td>118</td>\n",
       "      <td>30787</td>\n",
       "      <td>57385.88</td>\n",
       "      <td>118</td>\n",
       "      <td>3</td>\n",
       "      <td>370</td>\n",
       "      <td>0.318919</td>\n",
       "      <td>0.005417</td>\n",
       "    </tr>\n",
       "  </tbody>\n",
       "</table>\n",
       "</div>"
      ],
      "text/plain": [
       "      CustomerID  Total_Transactions  Total_Quantity  Total_Spent  \\\n",
       "1891     14911.0                 242           76848    128882.13   \n",
       "328      12748.0                 217           23976     30486.53   \n",
       "4033     17841.0                 169           22850     40333.22   \n",
       "1670     14606.0                 125            5969     11567.10   \n",
       "566      13089.0                 118           30787     57385.88   \n",
       "\n",
       "      Cancellation_Frequency  Days_Since_Last_Purchase  \\\n",
       "1891                     242                         2   \n",
       "328                      217                         1   \n",
       "4033                     169                         2   \n",
       "1670                     125                         2   \n",
       "566                      118                         3   \n",
       "\n",
       "      Days_Since_First_Purchase  Relative_Order_Frequency  \\\n",
       "1891                        374                  0.647059   \n",
       "328                         374                  0.580214   \n",
       "4033                        374                  0.451872   \n",
       "1670                        374                  0.334225   \n",
       "566                         370                  0.318919   \n",
       "\n",
       "      Absolute_Order_Frequency  \n",
       "1891                  0.011109  \n",
       "328                   0.009961  \n",
       "4033                  0.007758  \n",
       "1670                  0.005738  \n",
       "566                   0.005417  "
      ]
     },
     "execution_count": 84,
     "metadata": {},
     "output_type": "execute_result"
    }
   ],
   "source": [
    "# Calculate the order frequency for each customer with regard to it's first purchase - the Relative Order Frequency - this looks at the days passed\n",
    "customer_df['Relative_Order_Frequency'] = customer_df['Total_Transactions'] / customer_df['Days_Since_First_Purchase']\n",
    "\n",
    "# Calculate the order frequency for each customer with regard to all the dataset - to all the period captured in the dataset\n",
    "# the Absolute Order Frequency - this looks at what is the wight of the transactions made by the customer devied by the total number of transactions\n",
    "customer_df['Absolute_Order_Frequency'] = customer_df['Total_Transactions'] / customer_df['Total_Transactions'].sum()\n",
    "\n",
    "customer_df.sort_values(by='Absolute_Order_Frequency', ascending=False).head()"
   ]
  },
  {
   "cell_type": "markdown",
   "metadata": {},
   "source": [
    "Now I can drop the column 'Days_Since_First_Purchase'"
   ]
  },
  {
   "cell_type": "code",
   "execution_count": 26,
   "metadata": {},
   "outputs": [
    {
     "data": {
      "text/html": [
       "<div>\n",
       "<style scoped>\n",
       "    .dataframe tbody tr th:only-of-type {\n",
       "        vertical-align: middle;\n",
       "    }\n",
       "\n",
       "    .dataframe tbody tr th {\n",
       "        vertical-align: top;\n",
       "    }\n",
       "\n",
       "    .dataframe thead th {\n",
       "        text-align: right;\n",
       "    }\n",
       "</style>\n",
       "<table border=\"1\" class=\"dataframe\">\n",
       "  <thead>\n",
       "    <tr style=\"text-align: right;\">\n",
       "      <th></th>\n",
       "      <th>CustomerID</th>\n",
       "      <th>Total_Transactions</th>\n",
       "      <th>Total_Quantity</th>\n",
       "      <th>Total_Spent</th>\n",
       "      <th>Cancellation_Frequency</th>\n",
       "      <th>Days_Since_Last_Purchase</th>\n",
       "      <th>Order_Frequency</th>\n",
       "    </tr>\n",
       "  </thead>\n",
       "  <tbody>\n",
       "    <tr>\n",
       "      <th>0</th>\n",
       "      <td>12346.0</td>\n",
       "      <td>2</td>\n",
       "      <td>0</td>\n",
       "      <td>0.00</td>\n",
       "      <td>2</td>\n",
       "      <td>326</td>\n",
       "      <td>0.006135</td>\n",
       "    </tr>\n",
       "    <tr>\n",
       "      <th>1</th>\n",
       "      <td>12347.0</td>\n",
       "      <td>7</td>\n",
       "      <td>2458</td>\n",
       "      <td>4310.00</td>\n",
       "      <td>7</td>\n",
       "      <td>3</td>\n",
       "      <td>0.019022</td>\n",
       "    </tr>\n",
       "    <tr>\n",
       "      <th>2</th>\n",
       "      <td>12348.0</td>\n",
       "      <td>4</td>\n",
       "      <td>2332</td>\n",
       "      <td>1437.24</td>\n",
       "      <td>4</td>\n",
       "      <td>76</td>\n",
       "      <td>0.011142</td>\n",
       "    </tr>\n",
       "    <tr>\n",
       "      <th>3</th>\n",
       "      <td>12349.0</td>\n",
       "      <td>1</td>\n",
       "      <td>630</td>\n",
       "      <td>1457.55</td>\n",
       "      <td>1</td>\n",
       "      <td>19</td>\n",
       "      <td>0.052632</td>\n",
       "    </tr>\n",
       "    <tr>\n",
       "      <th>4</th>\n",
       "      <td>12350.0</td>\n",
       "      <td>1</td>\n",
       "      <td>196</td>\n",
       "      <td>294.40</td>\n",
       "      <td>1</td>\n",
       "      <td>311</td>\n",
       "      <td>0.003215</td>\n",
       "    </tr>\n",
       "  </tbody>\n",
       "</table>\n",
       "</div>"
      ],
      "text/plain": [
       "   CustomerID  Total_Transactions  Total_Quantity  Total_Spent  \\\n",
       "0     12346.0                   2               0         0.00   \n",
       "1     12347.0                   7            2458      4310.00   \n",
       "2     12348.0                   4            2332      1437.24   \n",
       "3     12349.0                   1             630      1457.55   \n",
       "4     12350.0                   1             196       294.40   \n",
       "\n",
       "   Cancellation_Frequency  Days_Since_Last_Purchase  Order_Frequency  \n",
       "0                       2                       326         0.006135  \n",
       "1                       7                         3         0.019022  \n",
       "2                       4                        76         0.011142  \n",
       "3                       1                        19         0.052632  \n",
       "4                       1                       311         0.003215  "
      ]
     },
     "execution_count": 26,
     "metadata": {},
     "output_type": "execute_result"
    }
   ],
   "source": [
    "customer_df = customer_df.drop(columns='Days_Since_First_Purchase')\n",
    "customer_df.head()"
   ]
  },
  {
   "cell_type": "markdown",
   "metadata": {},
   "source": [
    "#### Monetary features"
   ]
  },
  {
   "cell_type": "markdown",
   "metadata": {},
   "source": [
    "- We have the Total_Spent that gives us the total number of money a customer has spent \n",
    "- We might need the average money spent by a customer per transaction\n"
   ]
  },
  {
   "cell_type": "code",
   "execution_count": 27,
   "metadata": {},
   "outputs": [
    {
     "data": {
      "text/html": [
       "<div>\n",
       "<style scoped>\n",
       "    .dataframe tbody tr th:only-of-type {\n",
       "        vertical-align: middle;\n",
       "    }\n",
       "\n",
       "    .dataframe tbody tr th {\n",
       "        vertical-align: top;\n",
       "    }\n",
       "\n",
       "    .dataframe thead th {\n",
       "        text-align: right;\n",
       "    }\n",
       "</style>\n",
       "<table border=\"1\" class=\"dataframe\">\n",
       "  <thead>\n",
       "    <tr style=\"text-align: right;\">\n",
       "      <th></th>\n",
       "      <th>CustomerID</th>\n",
       "      <th>Total_Transactions</th>\n",
       "      <th>Total_Quantity</th>\n",
       "      <th>Total_Spent</th>\n",
       "      <th>Cancellation_Frequency</th>\n",
       "      <th>Days_Since_Last_Purchase</th>\n",
       "      <th>Order_Frequency</th>\n",
       "      <th>Average_Transaction_Value</th>\n",
       "    </tr>\n",
       "  </thead>\n",
       "  <tbody>\n",
       "    <tr>\n",
       "      <th>0</th>\n",
       "      <td>12346.0</td>\n",
       "      <td>2</td>\n",
       "      <td>0</td>\n",
       "      <td>0.00</td>\n",
       "      <td>2</td>\n",
       "      <td>326</td>\n",
       "      <td>0.006135</td>\n",
       "      <td>0.000000</td>\n",
       "    </tr>\n",
       "    <tr>\n",
       "      <th>1</th>\n",
       "      <td>12347.0</td>\n",
       "      <td>7</td>\n",
       "      <td>2458</td>\n",
       "      <td>4310.00</td>\n",
       "      <td>7</td>\n",
       "      <td>3</td>\n",
       "      <td>0.019022</td>\n",
       "      <td>615.714286</td>\n",
       "    </tr>\n",
       "    <tr>\n",
       "      <th>2</th>\n",
       "      <td>12348.0</td>\n",
       "      <td>4</td>\n",
       "      <td>2332</td>\n",
       "      <td>1437.24</td>\n",
       "      <td>4</td>\n",
       "      <td>76</td>\n",
       "      <td>0.011142</td>\n",
       "      <td>359.310000</td>\n",
       "    </tr>\n",
       "    <tr>\n",
       "      <th>3</th>\n",
       "      <td>12349.0</td>\n",
       "      <td>1</td>\n",
       "      <td>630</td>\n",
       "      <td>1457.55</td>\n",
       "      <td>1</td>\n",
       "      <td>19</td>\n",
       "      <td>0.052632</td>\n",
       "      <td>1457.550000</td>\n",
       "    </tr>\n",
       "    <tr>\n",
       "      <th>4</th>\n",
       "      <td>12350.0</td>\n",
       "      <td>1</td>\n",
       "      <td>196</td>\n",
       "      <td>294.40</td>\n",
       "      <td>1</td>\n",
       "      <td>311</td>\n",
       "      <td>0.003215</td>\n",
       "      <td>294.400000</td>\n",
       "    </tr>\n",
       "  </tbody>\n",
       "</table>\n",
       "</div>"
      ],
      "text/plain": [
       "   CustomerID  Total_Transactions  Total_Quantity  Total_Spent  \\\n",
       "0     12346.0                   2               0         0.00   \n",
       "1     12347.0                   7            2458      4310.00   \n",
       "2     12348.0                   4            2332      1437.24   \n",
       "3     12349.0                   1             630      1457.55   \n",
       "4     12350.0                   1             196       294.40   \n",
       "\n",
       "   Cancellation_Frequency  Days_Since_Last_Purchase  Order_Frequency  \\\n",
       "0                       2                       326         0.006135   \n",
       "1                       7                         3         0.019022   \n",
       "2                       4                        76         0.011142   \n",
       "3                       1                        19         0.052632   \n",
       "4                       1                       311         0.003215   \n",
       "\n",
       "   Average_Transaction_Value  \n",
       "0                   0.000000  \n",
       "1                 615.714286  \n",
       "2                 359.310000  \n",
       "3                1457.550000  \n",
       "4                 294.400000  "
      ]
     },
     "execution_count": 27,
     "metadata": {},
     "output_type": "execute_result"
    }
   ],
   "source": [
    "customer_df['Average_Transaction_Value'] = customer_df['Total_Spent'] / customer_df['Total_Transactions']\n",
    "customer_df.head()"
   ]
  },
  {
   "cell_type": "markdown",
   "metadata": {},
   "source": [
    "Now we can see the customers that don't bring any value\n",
    "\n",
    "We have a total of 40 customers that don't bring any value. We need to see what we do with them"
   ]
  },
  {
   "cell_type": "code",
   "execution_count": 29,
   "metadata": {},
   "outputs": [
    {
     "data": {
      "text/plain": [
       "40"
      ]
     },
     "execution_count": 29,
     "metadata": {},
     "output_type": "execute_result"
    }
   ],
   "source": [
    "no_value_customers = customer_df[customer_df['Total_Spent'] <= 0 ]\n",
    "no_value_customers.value_counts().sum()"
   ]
  },
  {
   "cell_type": "markdown",
   "metadata": {},
   "source": [
    "We need the following features: - these need to be done by aggregating the customers\n",
    "- Number of days since last order : this gives us rencency of pruchase\n",
    "- Average number of days between orders ???\n",
    "- Number of orders / customer\n",
    "- Average spending per order of a customer"
   ]
  }
 ],
 "metadata": {
  "kernelspec": {
   "display_name": "client-segmentation-env",
   "language": "python",
   "name": "python3"
  },
  "language_info": {
   "codemirror_mode": {
    "name": "ipython",
    "version": 3
   },
   "file_extension": ".py",
   "mimetype": "text/x-python",
   "name": "python",
   "nbconvert_exporter": "python",
   "pygments_lexer": "ipython3",
   "version": "3.12.2"
  }
 },
 "nbformat": 4,
 "nbformat_minor": 2
}
